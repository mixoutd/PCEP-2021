{
 "cells": [
  {
   "cell_type": "code",
   "execution_count": 1,
   "metadata": {},
   "outputs": [],
   "source": [
    "import random"
   ]
  },
  {
   "cell_type": "code",
   "execution_count": 2,
   "metadata": {},
   "outputs": [],
   "source": [
    "options = [\"Rock\", \"Paper\", \"Scissors\"]"
   ]
  },
  {
   "cell_type": "code",
   "execution_count": 3,
   "metadata": {},
   "outputs": [
    {
     "name": "stdout",
     "output_type": "stream",
     "text": [
      "The Rules of Rock paper scissor game will be follows: \n",
      "Rock vs paper --> paper wins \n",
      "Rock vs scissor --> Rock wins \n",
      "paper vs scissor --> scissor wins \n",
      "\n"
     ]
    }
   ],
   "source": [
    "print(\"The Rules of Rock paper scissor game will be follows: \\n\"\n",
    "   +\"Rock vs paper --> paper wins \\n\"\n",
    "   +\"Rock vs scissor --> Rock wins \\n\"\n",
    "   +\"paper vs scissor --> scissor wins \\n\") \n"
   ]
  },
  {
   "cell_type": "code",
   "execution_count": 4,
   "metadata": {},
   "outputs": [],
   "source": [
    "Continue_game = \"true\"\n",
    "computer_options = random.choice(options)"
   ]
  },
  {
   "cell_type": "code",
   "execution_count": null,
   "metadata": {},
   "outputs": [
    {
     "name": "stdout",
     "output_type": "stream",
     "text": [
      "your choice: Rock, paper or Scissors?R\n",
      "The computer chooses Scissors\n",
      "Invalid Selection!\n",
      "your choice: Rock, paper or Scissors?S\n",
      "The computer chooses Paper\n",
      "Invalid Selection!\n",
      "your choice: Rock, paper or Scissors?ROCK\n",
      "The computer chooses Scissors\n",
      "Invalid Selection!\n",
      "your choice: Rock, paper or Scissors?\n",
      "The computer chooses Paper\n",
      "Invalid Selection!\n",
      "your choice: Rock, paper or Scissors?Rock\n",
      "The computer chooses Paper\n",
      "You lost\n",
      "your choice: Rock, paper or Scissors?Paper\n",
      "The computer chooses Rock\n",
      "You Win\n"
     ]
    }
   ],
   "source": [
    "while Continue_game == \"true\":\n",
    "    computer_options = random.choice(options)\n",
    "    user_options = input(\"your choice: Rock, paper or Scissors?\")\n",
    "    print(\"The computer chooses\", computer_options)\n",
    "    if user_options == \"Rock\" and computer_options == \"Scissors\":\n",
    "        print(\"You Win\")\n",
    "    elif user_options == \"Rock\" and computer_options == \"Paper\":\n",
    "        print(\"You lost\")\n",
    "    elif user_options == \"Paper\" and computer_options == \"Rock\":\n",
    "        print(\"You Win\")\n",
    "    elif user_options == \"Paper\" and computer_options == \"Scissors\":\n",
    "        print(\"You lost\")\n",
    "    elif user_options == \"Scissors\" and computer_options == \"Paper\":\n",
    "        print(\"You win\")\n",
    "    elif user_options == \"Scissors\" and computer_options == \"Rock\":\n",
    "        print(\"You lost\")\n",
    "    elif user_options == computer_options:\n",
    "        print(\"It's a draw\")\n",
    "    else:\n",
    "        print(\"Invalid Selection!\")\n",
    "    "
   ]
  },
  {
   "cell_type": "code",
   "execution_count": null,
   "metadata": {},
   "outputs": [],
   "source": []
  },
  {
   "cell_type": "code",
   "execution_count": null,
   "metadata": {},
   "outputs": [],
   "source": []
  },
  {
   "cell_type": "code",
   "execution_count": null,
   "metadata": {},
   "outputs": [],
   "source": []
  },
  {
   "cell_type": "code",
   "execution_count": null,
   "metadata": {},
   "outputs": [],
   "source": []
  },
  {
   "cell_type": "code",
   "execution_count": null,
   "metadata": {},
   "outputs": [],
   "source": []
  },
  {
   "cell_type": "code",
   "execution_count": null,
   "metadata": {},
   "outputs": [],
   "source": []
  }
 ],
 "metadata": {
  "kernelspec": {
   "display_name": "Python 3",
   "language": "python",
   "name": "python3"
  },
  "language_info": {
   "codemirror_mode": {
    "name": "ipython",
    "version": 3
   },
   "file_extension": ".py",
   "mimetype": "text/x-python",
   "name": "python",
   "nbconvert_exporter": "python",
   "pygments_lexer": "ipython3",
   "version": "3.7.7"
  }
 },
 "nbformat": 4,
 "nbformat_minor": 4
}
